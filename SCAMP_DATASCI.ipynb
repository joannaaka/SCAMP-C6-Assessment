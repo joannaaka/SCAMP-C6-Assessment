{
 "cells": [
  {
   "cell_type": "code",
   "execution_count": 107,
   "id": "f6cf85ee",
   "metadata": {},
   "outputs": [],
   "source": [
    "# importing libraries\n",
    "\n",
    "import pandas as pd\n",
    "import matplotlib.pyplot as plt\n",
    "import numpy as np\n",
    "%matplotlib inline"
   ]
  },
  {
   "cell_type": "code",
   "execution_count": 108,
   "id": "f3825fc6",
   "metadata": {},
   "outputs": [],
   "source": [
    "def wrangle(filepath):\n",
    "    #  Read CSV file\n",
    "    df=pd.read_csv(filepath)\n",
    "    \n",
    "    #  subset data\n",
    "    \n",
    "    #  removing NaN in the industry column  \n",
    "    mask_ind=df[\"industry\"].notna()\n",
    "    #  removing fraudulent less than 1  \n",
    "    mask_fr=df[\"fraudulent\"]>0\n",
    "    \n",
    "    df=df[mask_ind & mask_fr]\n",
    "    \n",
    "    return df\n"
   ]
  },
  {
   "cell_type": "code",
   "execution_count": 109,
   "id": "cf650eb5",
   "metadata": {},
   "outputs": [
    {
     "name": "stdout",
     "output_type": "stream",
     "text": [
      "(591, 18)\n"
     ]
    },
    {
     "data": {
      "text/html": [
       "<div>\n",
       "<style scoped>\n",
       "    .dataframe tbody tr th:only-of-type {\n",
       "        vertical-align: middle;\n",
       "    }\n",
       "\n",
       "    .dataframe tbody tr th {\n",
       "        vertical-align: top;\n",
       "    }\n",
       "\n",
       "    .dataframe thead th {\n",
       "        text-align: right;\n",
       "    }\n",
       "</style>\n",
       "<table border=\"1\" class=\"dataframe\">\n",
       "  <thead>\n",
       "    <tr style=\"text-align: right;\">\n",
       "      <th></th>\n",
       "      <th>job_id</th>\n",
       "      <th>title</th>\n",
       "      <th>location</th>\n",
       "      <th>department</th>\n",
       "      <th>salary_range</th>\n",
       "      <th>company_profile</th>\n",
       "      <th>description</th>\n",
       "      <th>requirements</th>\n",
       "      <th>benefits</th>\n",
       "      <th>telecommuting</th>\n",
       "      <th>has_company_logo</th>\n",
       "      <th>has_questions</th>\n",
       "      <th>employment_type</th>\n",
       "      <th>required_experience</th>\n",
       "      <th>required_education</th>\n",
       "      <th>industry</th>\n",
       "      <th>function</th>\n",
       "      <th>fraudulent</th>\n",
       "    </tr>\n",
       "  </thead>\n",
       "  <tbody>\n",
       "    <tr>\n",
       "      <th>98</th>\n",
       "      <td>99</td>\n",
       "      <td>IC&amp;E Technician</td>\n",
       "      <td>US, , Stocton, CA</td>\n",
       "      <td>Oil &amp; Energy</td>\n",
       "      <td>95000-115000</td>\n",
       "      <td>...</td>\n",
       "      <td>IC&amp;amp;E Technician | Bakersfield, CA Mt. Poso...</td>\n",
       "      <td>QualificationsKnowledge, Skills &amp;amp; Abilitie...</td>\n",
       "      <td>BENEFITSWhat is offered:Competitive compensati...</td>\n",
       "      <td>0</td>\n",
       "      <td>1</td>\n",
       "      <td>1</td>\n",
       "      <td>Full-time</td>\n",
       "      <td>Mid-Senior level</td>\n",
       "      <td>High School or equivalent</td>\n",
       "      <td>Oil &amp; Energy</td>\n",
       "      <td>Other</td>\n",
       "      <td>1</td>\n",
       "    </tr>\n",
       "    <tr>\n",
       "      <th>173</th>\n",
       "      <td>174</td>\n",
       "      <td>Technician Instrument &amp; Controls</td>\n",
       "      <td>US</td>\n",
       "      <td>Power Plant &amp; Energy</td>\n",
       "      <td>NaN</td>\n",
       "      <td>Edison International and Refined Resources hav...</td>\n",
       "      <td>Technician Instrument &amp;amp; ControlsLocation D...</td>\n",
       "      <td>JOB QUALIFICATIONS-Ability to understand proce...</td>\n",
       "      <td>we are a team of almost 8,000 employees who he...</td>\n",
       "      <td>0</td>\n",
       "      <td>1</td>\n",
       "      <td>1</td>\n",
       "      <td>Full-time</td>\n",
       "      <td>Mid-Senior level</td>\n",
       "      <td>Certification</td>\n",
       "      <td>Electrical/Electronic Manufacturing</td>\n",
       "      <td>Other</td>\n",
       "      <td>1</td>\n",
       "    </tr>\n",
       "    <tr>\n",
       "      <th>215</th>\n",
       "      <td>216</td>\n",
       "      <td>IC&amp;E Technician Mt Poso</td>\n",
       "      <td>US, CA, Bakersfield, CA / Mt. Poso</td>\n",
       "      <td>Oil &amp; Energy</td>\n",
       "      <td>95000-115000</td>\n",
       "      <td>...</td>\n",
       "      <td>IC&amp;amp;E Technician | Bakersfield, CA Mt. Poso...</td>\n",
       "      <td>QualificationsKnowledge, Skills &amp;amp; Abiliti...</td>\n",
       "      <td>BENEFITSWhat is offered:Competitive compensati...</td>\n",
       "      <td>0</td>\n",
       "      <td>1</td>\n",
       "      <td>1</td>\n",
       "      <td>Full-time</td>\n",
       "      <td>Mid-Senior level</td>\n",
       "      <td>High School or equivalent</td>\n",
       "      <td>Oil &amp; Energy</td>\n",
       "      <td>Other</td>\n",
       "      <td>1</td>\n",
       "    </tr>\n",
       "    <tr>\n",
       "      <th>357</th>\n",
       "      <td>358</td>\n",
       "      <td>Financing Auto(car) sales</td>\n",
       "      <td>US, IL, hazelcrest</td>\n",
       "      <td>hr</td>\n",
       "      <td>35000-73000</td>\n",
       "      <td>Looking for adventurous people to join a thriv...</td>\n",
       "      <td>If you have experience in financing for auto s...</td>\n",
       "      <td>prior car sales expprior car loan financing exp</td>\n",
       "      <td>profit sharingcar allowancecompany car</td>\n",
       "      <td>0</td>\n",
       "      <td>0</td>\n",
       "      <td>0</td>\n",
       "      <td>Contract</td>\n",
       "      <td>Associate</td>\n",
       "      <td>NaN</td>\n",
       "      <td>Automotive</td>\n",
       "      <td>NaN</td>\n",
       "      <td>1</td>\n",
       "    </tr>\n",
       "    <tr>\n",
       "      <th>493</th>\n",
       "      <td>494</td>\n",
       "      <td>Admin Assistant/ Receptionist</td>\n",
       "      <td>US, CA, Los Angeles</td>\n",
       "      <td>NaN</td>\n",
       "      <td>23040-28800</td>\n",
       "      <td>NaN</td>\n",
       "      <td>A Newly established company seeks outgoing, fr...</td>\n",
       "      <td>Must have good knowledge of Outlook, Microsoft...</td>\n",
       "      <td>NaN</td>\n",
       "      <td>0</td>\n",
       "      <td>0</td>\n",
       "      <td>0</td>\n",
       "      <td>Full-time</td>\n",
       "      <td>Entry level</td>\n",
       "      <td>High School or equivalent</td>\n",
       "      <td>Computer Software</td>\n",
       "      <td>Administrative</td>\n",
       "      <td>1</td>\n",
       "    </tr>\n",
       "  </tbody>\n",
       "</table>\n",
       "</div>"
      ],
      "text/plain": [
       "     job_id                              title  \\\n",
       "98       99                    IC&E Technician   \n",
       "173     174  Technician Instrument & Controls    \n",
       "215     216            IC&E Technician Mt Poso   \n",
       "357     358          Financing Auto(car) sales   \n",
       "493     494     Admin Assistant/ Receptionist    \n",
       "\n",
       "                               location            department  salary_range  \\\n",
       "98                    US, , Stocton, CA          Oil & Energy  95000-115000   \n",
       "173                                  US  Power Plant & Energy           NaN   \n",
       "215  US, CA, Bakersfield, CA / Mt. Poso          Oil & Energy  95000-115000   \n",
       "357                  US, IL, hazelcrest                    hr   35000-73000   \n",
       "493                 US, CA, Los Angeles                   NaN   23040-28800   \n",
       "\n",
       "                                       company_profile  \\\n",
       "98                                                 ...   \n",
       "173  Edison International and Refined Resources hav...   \n",
       "215                                                ...   \n",
       "357  Looking for adventurous people to join a thriv...   \n",
       "493                                                NaN   \n",
       "\n",
       "                                           description  \\\n",
       "98   IC&amp;E Technician | Bakersfield, CA Mt. Poso...   \n",
       "173  Technician Instrument &amp; ControlsLocation D...   \n",
       "215  IC&amp;E Technician | Bakersfield, CA Mt. Poso...   \n",
       "357  If you have experience in financing for auto s...   \n",
       "493  A Newly established company seeks outgoing, fr...   \n",
       "\n",
       "                                          requirements  \\\n",
       "98   QualificationsKnowledge, Skills &amp; Abilitie...   \n",
       "173  JOB QUALIFICATIONS-Ability to understand proce...   \n",
       "215   QualificationsKnowledge, Skills &amp; Abiliti...   \n",
       "357    prior car sales expprior car loan financing exp   \n",
       "493  Must have good knowledge of Outlook, Microsoft...   \n",
       "\n",
       "                                              benefits  telecommuting  \\\n",
       "98   BENEFITSWhat is offered:Competitive compensati...              0   \n",
       "173  we are a team of almost 8,000 employees who he...              0   \n",
       "215  BENEFITSWhat is offered:Competitive compensati...              0   \n",
       "357             profit sharingcar allowancecompany car              0   \n",
       "493                                                NaN              0   \n",
       "\n",
       "     has_company_logo  has_questions employment_type required_experience  \\\n",
       "98                  1              1       Full-time    Mid-Senior level   \n",
       "173                 1              1       Full-time    Mid-Senior level   \n",
       "215                 1              1       Full-time    Mid-Senior level   \n",
       "357                 0              0        Contract           Associate   \n",
       "493                 0              0       Full-time         Entry level   \n",
       "\n",
       "            required_education                             industry  \\\n",
       "98   High School or equivalent                         Oil & Energy   \n",
       "173              Certification  Electrical/Electronic Manufacturing   \n",
       "215  High School or equivalent                         Oil & Energy   \n",
       "357                        NaN                           Automotive   \n",
       "493  High School or equivalent                    Computer Software   \n",
       "\n",
       "           function  fraudulent  \n",
       "98            Other           1  \n",
       "173           Other           1  \n",
       "215           Other           1  \n",
       "357             NaN           1  \n",
       "493  Administrative           1  "
      ]
     },
     "execution_count": 109,
     "metadata": {},
     "output_type": "execute_result"
    }
   ],
   "source": [
    "\n",
    "frame=wrangle(\"fake_job_postings.csv\")\n",
    "print(frame.shape)\n",
    "frame.head()"
   ]
  },
  {
   "cell_type": "code",
   "execution_count": 110,
   "id": "c673e191",
   "metadata": {
    "scrolled": true
   },
   "outputs": [
    {
     "data": {
      "text/plain": [
       "1    591\n",
       "Name: fraudulent, dtype: int64"
      ]
     },
     "execution_count": 110,
     "metadata": {},
     "output_type": "execute_result"
    }
   ],
   "source": [
    "# summary statistics\n",
    "frame[\"fraudulent\"].value_counts()"
   ]
  },
  {
   "cell_type": "code",
   "execution_count": 111,
   "id": "40f98ac4",
   "metadata": {},
   "outputs": [
    {
     "data": {
      "text/plain": [
       "Oil & Energy                   109\n",
       "Accounting                      57\n",
       "Hospital & Health Care          51\n",
       "Marketing and Advertising       45\n",
       "Financial Services              35\n",
       "                              ... \n",
       "Civic & Social Organization      1\n",
       "Public Safety                    1\n",
       "Wholesale                        1\n",
       "Consumer Goods                   1\n",
       "Online Media                     1\n",
       "Name: industry, Length: 62, dtype: int64"
      ]
     },
     "execution_count": 111,
     "metadata": {},
     "output_type": "execute_result"
    }
   ],
   "source": [
    "# summary statistics\n",
    "frame[\"industry\"].value_counts()"
   ]
  },
  {
   "cell_type": "code",
   "execution_count": 112,
   "id": "ba33e571",
   "metadata": {},
   "outputs": [
    {
     "data": {
      "text/plain": [
       "Oil & Energy                           109\n",
       "Accounting                              57\n",
       "Hospital & Health Care                  51\n",
       "Marketing and Advertising               45\n",
       "Financial Services                      35\n",
       "Information Technology and Services     32\n",
       "Telecommunications                      26\n",
       "Real Estate                             24\n",
       "Consumer Services                       24\n",
       "Leisure, Travel & Tourism               21\n",
       "Health, Wellness and Fitness            15\n",
       "Hospitality                             14\n",
       "Computer Networking                     12\n",
       "Name: industry, dtype: int64"
      ]
     },
     "execution_count": 112,
     "metadata": {},
     "output_type": "execute_result"
    }
   ],
   "source": [
    "# Removing outliers from the industry column\n",
    "\n",
    "df_group=frame[frame.groupby(\"industry\")[\"industry\"].transform(\"count\")>10].copy()\n",
    "df_group[\"industry\"].value_counts()"
   ]
  },
  {
   "cell_type": "code",
   "execution_count": 113,
   "id": "bc5c1c70",
   "metadata": {},
   "outputs": [],
   "source": [
    "# GROUPING based on the industry\n",
    "\n",
    "df1=df_group.groupby(\"industry\")\n"
   ]
  },
  {
   "cell_type": "code",
   "execution_count": 114,
   "id": "aca74aa2",
   "metadata": {
    "scrolled": false
   },
   "outputs": [
    {
     "data": {
      "text/plain": [
       "{'Accounting': 57,\n",
       " 'Oil & Energy': 109,\n",
       " 'Hospital & Health Care': 51,\n",
       " 'Marketing and Advertising': 45,\n",
       " 'Information Technology and Services': 32,\n",
       " 'Telecommunications': 26,\n",
       " 'Real Estate': 24,\n",
       " 'Consumer Services': 24,\n",
       " 'Financial Services': 35}"
      ]
     },
     "execution_count": 114,
     "metadata": {},
     "output_type": "execute_result"
    }
   ],
   "source": [
    "# Creating a dictionary of the industry and its corresponding fraud value\n",
    "\n",
    "dic={\"Accounting\":df1.get_group(\"Accounting\")[\"fraudulent\"].sum(),\n",
    "     \"Oil & Energy\":df1.get_group(\"Oil & Energy\")[\"fraudulent\"].sum(),\n",
    "     \"Hospital & Health Care\":df1.get_group(\"Hospital & Health Care\")[\"fraudulent\"].sum(),\n",
    "     \"Marketing and Advertising\": df1.get_group(\"Marketing and Advertising\")[\"fraudulent\"].sum(), \n",
    "     \"Information Technology and Services\":df1.get_group(\"Information Technology and Services\")[\"fraudulent\"].sum(),\n",
    "     \"Telecommunications\":df1.get_group(\"Telecommunications\")[\"fraudulent\"].sum(),\n",
    "     \"Real Estate\":df1.get_group(\"Real Estate\")[\"fraudulent\"].sum(),\n",
    "     \"Consumer Services\":df1.get_group(\"Consumer Services\")[\"fraudulent\"].sum(),\n",
    "     \"Financial Services\":df1.get_group(\"Financial Services\")[\"fraudulent\"].sum()}\n",
    "     \n",
    "dic"
   ]
  },
  {
   "cell_type": "code",
   "execution_count": 115,
   "id": "dd9e97e8",
   "metadata": {},
   "outputs": [
    {
     "data": {
      "text/plain": [
       "[('Accounting', 57),\n",
       " ('Oil & Energy', 109),\n",
       " ('Hospital & Health Care', 51),\n",
       " ('Marketing and Advertising', 45),\n",
       " ('Information Technology and Services', 32),\n",
       " ('Telecommunications', 26),\n",
       " ('Real Estate', 24),\n",
       " ('Consumer Services', 24),\n",
       " ('Financial Services', 35)]"
      ]
     },
     "execution_count": 115,
     "metadata": {},
     "output_type": "execute_result"
    }
   ],
   "source": [
    "# Converting the dictionay to a list\n",
    "\n",
    "lis1=list(dic.items())\n",
    "\n",
    "lis1\n"
   ]
  },
  {
   "cell_type": "code",
   "execution_count": 116,
   "id": "43cf658c",
   "metadata": {
    "scrolled": false
   },
   "outputs": [
    {
     "data": {
      "text/html": [
       "<div>\n",
       "<style scoped>\n",
       "    .dataframe tbody tr th:only-of-type {\n",
       "        vertical-align: middle;\n",
       "    }\n",
       "\n",
       "    .dataframe tbody tr th {\n",
       "        vertical-align: top;\n",
       "    }\n",
       "\n",
       "    .dataframe thead th {\n",
       "        text-align: right;\n",
       "    }\n",
       "</style>\n",
       "<table border=\"1\" class=\"dataframe\">\n",
       "  <thead>\n",
       "    <tr style=\"text-align: right;\">\n",
       "      <th></th>\n",
       "      <th>INDUSTRY</th>\n",
       "      <th>FRAUD COUNT</th>\n",
       "      <th>ABBR</th>\n",
       "    </tr>\n",
       "  </thead>\n",
       "  <tbody>\n",
       "    <tr>\n",
       "      <th>0</th>\n",
       "      <td>Accounting</td>\n",
       "      <td>57</td>\n",
       "      <td>ACC</td>\n",
       "    </tr>\n",
       "    <tr>\n",
       "      <th>1</th>\n",
       "      <td>Oil &amp; Energy</td>\n",
       "      <td>109</td>\n",
       "      <td>OIL</td>\n",
       "    </tr>\n",
       "    <tr>\n",
       "      <th>2</th>\n",
       "      <td>Hospital &amp; Health Care</td>\n",
       "      <td>51</td>\n",
       "      <td>HOSP</td>\n",
       "    </tr>\n",
       "    <tr>\n",
       "      <th>3</th>\n",
       "      <td>Marketing and Advertising</td>\n",
       "      <td>45</td>\n",
       "      <td>MART</td>\n",
       "    </tr>\n",
       "    <tr>\n",
       "      <th>4</th>\n",
       "      <td>Information Technology and Services</td>\n",
       "      <td>32</td>\n",
       "      <td>ICT</td>\n",
       "    </tr>\n",
       "    <tr>\n",
       "      <th>5</th>\n",
       "      <td>Telecommunications</td>\n",
       "      <td>26</td>\n",
       "      <td>TELE</td>\n",
       "    </tr>\n",
       "    <tr>\n",
       "      <th>6</th>\n",
       "      <td>Real Estate</td>\n",
       "      <td>24</td>\n",
       "      <td>REALT</td>\n",
       "    </tr>\n",
       "    <tr>\n",
       "      <th>7</th>\n",
       "      <td>Consumer Services</td>\n",
       "      <td>24</td>\n",
       "      <td>CONS</td>\n",
       "    </tr>\n",
       "    <tr>\n",
       "      <th>8</th>\n",
       "      <td>Financial Services</td>\n",
       "      <td>35</td>\n",
       "      <td>FINAN</td>\n",
       "    </tr>\n",
       "  </tbody>\n",
       "</table>\n",
       "</div>"
      ],
      "text/plain": [
       "                              INDUSTRY  FRAUD COUNT   ABBR\n",
       "0                           Accounting           57    ACC\n",
       "1                         Oil & Energy          109    OIL\n",
       "2               Hospital & Health Care           51   HOSP\n",
       "3            Marketing and Advertising           45   MART\n",
       "4  Information Technology and Services           32    ICT\n",
       "5                   Telecommunications           26   TELE\n",
       "6                          Real Estate           24  REALT\n",
       "7                    Consumer Services           24   CONS\n",
       "8                   Financial Services           35  FINAN"
      ]
     },
     "execution_count": 116,
     "metadata": {},
     "output_type": "execute_result"
    }
   ],
   "source": [
    "# Creating a new dataframe from the list\n",
    "\n",
    "fraud_df=pd.DataFrame(lis1)\n",
    "fraud_df.columns=[\"INDUSTRY\",\"FRAUD COUNT\"]\n",
    "fraud_df[\"ABBR\"]=[\"ACC\",\"OIL\",\"HOSP\",\"MART\",\"ICT\",\"TELE\",\"REALT\",\"CONS\",\"FINAN\"]\n",
    "\n",
    "fraud_df\n"
   ]
  },
  {
   "cell_type": "code",
   "execution_count": 117,
   "id": "f34b989d",
   "metadata": {},
   "outputs": [
    {
     "data": {
      "image/png": "[encoded data removed]",
      "text/plain": [
       "<Figure size 1080x432 with 1 Axes>"
      ]
     },
     "metadata": {
      "needs_background": "light"
     },
     "output_type": "display_data"
    }
   ],
   "source": [
    "# plotting a histogram\n",
    "\n",
    "plt.figure(figsize=[15,6])\n",
    "plt.bar(fraud_df[\"ABBR\"],fraud_df[\"FRAUD COUNT\"])\n",
    "plt.xlabel(\"INDUSTRY\",fontsize=\"x-large\")\n",
    "plt.ylabel(\"FRAUD RATE\",fontsize=\"x-large\")\n",
    "plt.title(\"FAKE JOB POSTINGS IN INDUSTRIES\",fontsize=\"x-large\");"
   ]
  },
  {
   "cell_type": "code",
   "execution_count": null,
   "id": "f9d5db6b",
   "metadata": {},
   "outputs": [],
   "source": [
    "# From the above plot Oil & Energy has the highes fake job posting with Accounting coming next"
   ]
  }
 ],
 "metadata": {
  "kernelspec": {
   "display_name": "Python 3 (ipykernel)",
   "language": "python",
   "name": "python3"
  },
  "language_info": {
   "codemirror_mode": {
    "name": "ipython",
    "version": 3
   },
   "file_extension": ".py",
   "mimetype": "text/x-python",
   "name": "python",
   "nbconvert_exporter": "python",
   "pygments_lexer": "ipython3",
   "version": "3.9.7"
  }
 },
 "nbformat": 4,
 "nbformat_minor": 5
}
